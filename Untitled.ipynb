{
 "cells": [
  {
   "cell_type": "code",
   "execution_count": 1,
   "metadata": {},
   "outputs": [],
   "source": [
    "from collections import namedtuple\n",
    "from torch import nn\n",
    "from torch.utils import model_zoo\n",
    "\n",
    "import models.selim_zoo.unet as models"
   ]
  },
  {
   "cell_type": "code",
   "execution_count": 2,
   "metadata": {},
   "outputs": [],
   "source": [
    "model = namedtuple(\"model\", [\"url\", \"model\"])\n",
    "\n",
    "models = {\n",
    "    \"resnet34\": model(\n",
    "        url=\"https://github.com/alimbekovKZ/lungs_segmentation/releases/download/1.0.0/resnet34.pth\",\n",
    "        model=models.Resnet(seg_classes=2, backbone_arch='resnet34'),\n",
    "    ),\n",
    "    \"densenet121\": model(\n",
    "        url=\"https://github.com/alimbekovKZ/lungs_segmentation/releases/download/1.0.0/densenet121.pth\",\n",
    "        model=models.DensenetUnet(seg_classes=2, backbone_arch='densenet121'),\n",
    "    )\n",
    "}"
   ]
  },
  {
   "cell_type": "code",
   "execution_count": 6,
   "metadata": {},
   "outputs": [],
   "source": [
    "def create_model(model_name: str) -> nn.Module:\n",
    "    model = models[model_name].model\n",
    "    state_dict = model_zoo.load_url(models[model_name].url, progress=True, map_location=\"cpu\")#[\"state_dict\"]\n",
    "    model.load_state_dict(state_dict)\n",
    "    return model"
   ]
  },
  {
   "cell_type": "code",
   "execution_count": 8,
   "metadata": {},
   "outputs": [],
   "source": [
    "model = create_model('resnet34')"
   ]
  },
  {
   "cell_type": "code",
   "execution_count": null,
   "metadata": {},
   "outputs": [],
   "source": []
  }
 ],
 "metadata": {
  "kernelspec": {
   "display_name": "Python 3",
   "language": "python",
   "name": "python3"
  },
  "language_info": {
   "codemirror_mode": {
    "name": "ipython",
    "version": 3
   },
   "file_extension": ".py",
   "mimetype": "text/x-python",
   "name": "python",
   "nbconvert_exporter": "python",
   "pygments_lexer": "ipython3",
   "version": "3.7.3"
  }
 },
 "nbformat": 4,
 "nbformat_minor": 4
}
